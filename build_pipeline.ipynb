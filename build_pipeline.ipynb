{
 "cells": [
  {
   "cell_type": "code",
   "execution_count": 1,
   "id": "a623ff22-c152-4f7f-a876-216513bb5671",
   "metadata": {},
   "outputs": [],
   "source": [
    "import kfp.dsl as kfp\n",
    "from kfp import dsl\n",
    "from kfp import Client\n",
    "from kfp import components\n",
    "import yaml\n"
   ]
  },
  {
   "cell_type": "code",
   "execution_count": 2,
   "id": "3193d548-1c0d-4646-9437-75bed7fdd9ac",
   "metadata": {},
   "outputs": [],
   "source": [
    "def model_serving(cpu_request, memory_request):\n",
    "    \"\"\"\n",
    "    Create kserve instance\n",
    "    \"\"\"\n",
    "    from kubernetes import client \n",
    "    from kserve import KServeClient\n",
    "    from kserve import constants\n",
    "    from kserve import utils\n",
    "    from kserve import V1beta1InferenceService\n",
    "    from kserve import V1beta1InferenceServiceSpec\n",
    "    from kserve import V1beta1PredictorSpec\n",
    "    from kserve import V1beta1TFServingSpec\n",
    "    from datetime import datetime\n",
    "    from kubernetes.client import V1Container, V1EnvVar, V1ResourceRequirements\n",
    "\n",
    "    namespace = utils.get_default_target_namespace()\n",
    "\n",
    "    now = datetime.now()\n",
    "    v = now.strftime(\"%Y-%m-%d--%H-%M-%S\")\n",
    "\n",
    "    name='ancestry-{}'.format(v)\n",
    "    kserve_version='v1beta1'\n",
    "    api_version = constants.KSERVE_GROUP + '/' + kserve_version\n",
    "\n",
    "    isvc = V1beta1InferenceService(api_version=api_version,\n",
    "                                   kind=constants.KSERVE_KIND,\n",
    "                                   metadata=client.V1ObjectMeta(\n",
    "                                       name=name, namespace=namespace, annotations={'sidecar.istio.io/inject':'false'}),\n",
    "                                   spec=V1beta1InferenceServiceSpec(\n",
    "                                   predictor=V1beta1PredictorSpec(\n",
    "                                       containers=[V1Container(image='hungcao0402/ancestry:latest',\n",
    "                                                                name='ancestry',\n",
    "                                                                resources=V1ResourceRequirements(requests={'cpu': cpu_request, 'memory': memory_request})                                                               \n",
    "                                                   \n",
    "                                        )]\n",
    "                                   )\n",
    "    ))\n",
    "    KServe = KServeClient()\n",
    "    KServe.create(isvc)     \n",
    "    \n",
    "comp_model_serving = components.func_to_container_op(model_serving, packages_to_install=[\"kserve==0.10\", 'kubernetes'])"
   ]
  },
  {
   "cell_type": "code",
   "execution_count": 3,
   "id": "b1ab4e78-4cc9-472a-9a93-4c463eaa069b",
   "metadata": {},
   "outputs": [],
   "source": [
    "@kfp.pipeline(\n",
    "  name='pipeline-ancestry',\n",
    "  description='Kubeflow pipelines SDK'\n",
    ")\n",
    "def ancestry_pipeline(cpu_request='1m', memory_request='1Gi'):    \n",
    "    comp_model_serving(cpu_request, memory_request).execution_options.caching_strategy.max_cache_staleness = \"P0D\"\n",
    "\n",
    "if __name__ == \"__main__\":\n",
    "    import kfp.compiler as compiler\n",
    "    compiler.Compiler().compile(ancestry_pipeline, 'ancestry_pipeline.yaml')\n"
   ]
  }
 ],
 "metadata": {
  "kernelspec": {
   "display_name": "Python 3 (ipykernel)",
   "language": "python",
   "name": "python3"
  },
  "language_info": {
   "codemirror_mode": {
    "name": "ipython",
    "version": 3
   },
   "file_extension": ".py",
   "mimetype": "text/x-python",
   "name": "python",
   "nbconvert_exporter": "python",
   "pygments_lexer": "ipython3",
   "version": "3.8.10"
  }
 },
 "nbformat": 4,
 "nbformat_minor": 5
}
